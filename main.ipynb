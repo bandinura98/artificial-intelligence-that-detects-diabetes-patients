{
 "cells": [
  {
   "cell_type": "markdown",
   "metadata": {
    "colab_type": "text",
    "id": "lP6JLo1tGNBg"
   },
   "source": [
    "# Artificial Neural Network"
   ]
  },
  {
   "cell_type": "markdown",
   "metadata": {
    "colab_type": "text",
    "id": "gWZyYmS_UE_L"
   },
   "source": [
    "### Importing the libraries"
   ]
  },
  {
   "cell_type": "code",
   "execution_count": 222,
   "metadata": {
    "colab": {},
    "colab_type": "code",
    "id": "MxkJoQBkUIHC",
    "vscode": {
     "languageId": "python"
    }
   },
   "outputs": [],
   "source": [
    "import numpy as np\n",
    "import pandas as pd\n",
    "import tensorflow as tf"
   ]
  },
  {
   "cell_type": "code",
   "execution_count": 223,
   "metadata": {
    "colab": {
     "base_uri": "https://localhost:8080/",
     "height": 34
    },
    "colab_type": "code",
    "id": "ZaTwK7ojXr2F",
    "outputId": "0b27a96d-d11a-43e8-ab4b-87c1f01896fe",
    "vscode": {
     "languageId": "python"
    }
   },
   "outputs": [
    {
     "data": {
      "text/plain": [
       "'2.11.0'"
      ]
     },
     "execution_count": 223,
     "metadata": {},
     "output_type": "execute_result"
    }
   ],
   "source": [
    "tf.__version__"
   ]
  },
  {
   "cell_type": "markdown",
   "metadata": {
    "colab_type": "text",
    "id": "1E0Q3aoKUCRX"
   },
   "source": [
    "## Part 1 - Data Preprocessing"
   ]
  },
  {
   "cell_type": "markdown",
   "metadata": {
    "colab_type": "text",
    "id": "cKWAkFVGUU0Z"
   },
   "source": [
    "### Importing the dataset"
   ]
  },
  {
   "cell_type": "code",
   "execution_count": 224,
   "metadata": {
    "colab": {},
    "colab_type": "code",
    "id": "MXUkhkMfU4wq",
    "vscode": {
     "languageId": "python"
    }
   },
   "outputs": [],
   "source": [
    "dataset = pd.read_csv('diabetes.csv')\n",
    "X = dataset.iloc[:, 0:-1].values\n",
    "y = dataset.iloc[:, -1].values"
   ]
  },
  {
   "cell_type": "code",
   "execution_count": 225,
   "metadata": {
    "colab": {
     "base_uri": "https://localhost:8080/",
     "height": 137
    },
    "colab_type": "code",
    "id": "VYP9cQTWbzuI",
    "outputId": "797e7a64-9bac-436a-8c9c-94437e5e7587",
    "vscode": {
     "languageId": "python"
    }
   },
   "outputs": [
    {
     "name": "stdout",
     "output_type": "stream",
     "text": [
      "[[  6.    148.     72.    ...  33.6     0.627  50.   ]\n",
      " [  1.     85.     66.    ...  26.6     0.351  31.   ]\n",
      " [  8.    183.     64.    ...  23.3     0.672  32.   ]\n",
      " ...\n",
      " [  5.    121.     72.    ...  26.2     0.245  30.   ]\n",
      " [  1.    126.     60.    ...  30.1     0.349  47.   ]\n",
      " [  1.     93.     70.    ...  30.4     0.315  23.   ]]\n"
     ]
    }
   ],
   "source": [
    "print(X)"
   ]
  },
  {
   "cell_type": "code",
   "execution_count": 226,
   "metadata": {
    "colab": {
     "base_uri": "https://localhost:8080/",
     "height": 34
    },
    "colab_type": "code",
    "id": "38vKGE6Nb2RR",
    "outputId": "a815e42a-e0dd-4cb5-ab97-b17ead98fbc3",
    "vscode": {
     "languageId": "python"
    }
   },
   "outputs": [
    {
     "name": "stdout",
     "output_type": "stream",
     "text": [
      "[1 0 1 0 1 0 1 0 1 1 0 1 0 1 1 1 1 1 0 1 0 0 1 1 1 1 1 0 0 0 0 1 0 0 0 0 0\n",
      " 1 1 1 0 0 0 1 0 1 0 0 1 0 0 0 0 1 0 0 1 0 0 0 0 1 0 0 1 0 1 0 0 0 1 0 1 0\n",
      " 0 0 0 0 1 0 0 0 0 0 1 0 0 0 1 0 0 0 0 1 0 0 0 0 0 1 1 0 0 0 0 0 0 0 0 1 1\n",
      " 1 0 0 1 1 1 0 0 0 1 0 0 0 1 1 0 0 1 1 1 1 1 0 0 0 0 0 0 0 0 0 0 1 0 0 0 0\n",
      " 0 0 0 0 1 0 1 1 0 0 0 1 0 0 0 0 1 1 0 0 0 0 1 1 0 0 0 1 0 1 0 1 0 0 0 0 0\n",
      " 1 1 1 1 1 0 0 1 1 0 1 0 1 1 1 0 0 0 0 0 0 1 1 0 1 0 0 0 1 1 1 1 0 1 1 1 1\n",
      " 0 0 0 0 0 1 0 0 1 1 0 0 0 1 1 1 1 0 0 0 1 1 0 1 0 0 0 0 0 0 0 0 1 1 0 0 0\n",
      " 1 0 1 0 0 1 0 1 0 0 1 1 0 0 0 0 0 1 0 0 0 1 0 0 1 1 0 0 1 0 0 0 1 1 1 0 0\n",
      " 1 0 1 0 1 1 0 1 0 0 1 0 1 1 0 0 1 0 1 0 0 1 0 1 0 1 1 1 0 0 1 0 1 0 0 0 1\n",
      " 0 0 0 0 1 1 1 0 0 0 0 0 0 0 0 0 1 0 0 0 0 0 1 1 1 0 1 1 0 0 1 0 0 1 0 0 1\n",
      " 1 0 0 0 0 1 0 0 1 0 0 0 0 0 0 0 1 1 1 0 0 1 0 0 1 0 0 1 0 1 1 0 1 0 1 0 1\n",
      " 0 1 1 0 0 0 0 1 1 0 1 0 1 0 0 0 0 1 1 0 1 0 1 0 0 0 0 0 1 0 0 0 0 1 0 0 1\n",
      " 1 1 0 0 1 0 0 1 0 0 0 1 0 0 1 0 0 0 0 0 0 0 0 0 1 0 0 0 0 0 0 0 1 0 0 0 1\n",
      " 0 0 0 1 1 0 0 0 0 0 0 0 1 0 0 0 0 1 0 0 0 1 0 0 0 1 0 0 0 1 0 0 0 0 1 1 0\n",
      " 0 0 0 0 0 1 0 0 0 0 0 0 0 0 0 0 0 1 0 0 0 1 1 1 1 0 0 1 1 0 0 0 0 0 0 0 0\n",
      " 0 0 0 0 0 1 1 0 0 0 0 0 0 0 1 0 0 0 0 0 0 0 1 0 1 1 0 0 0 1 0 1 0 1 0 1 0\n",
      " 1 0 0 1 0 0 1 0 0 0 0 1 1 0 1 0 0 0 0 1 1 0 1 0 0 0 1 1 0 0 0 0 0 0 0 0 0\n",
      " 0 1 0 0 0 0 1 0 0 1 0 0 0 1 0 0 0 1 1 1 0 0 0 0 0 0 1 0 0 0 1 0 1 1 1 1 0\n",
      " 1 1 0 0 0 0 0 0 0 1 1 0 1 0 0 1 0 1 0 0 0 0 0 1 0 1 0 1 0 1 1 0 0 0 0 1 1\n",
      " 0 0 0 1 0 1 1 0 0 1 0 0 1 1 0 0 1 0 0 1 0 0 0 0 0 0 0 1 1 1 0 0 0 0 0 0 1\n",
      " 1 0 0 1 0 0 1 0 1 1 1 0 0 1 1 1 0 1 0 1 0 1 0 0 0 0 1 0]\n"
     ]
    }
   ],
   "source": [
    "print(y)"
   ]
  },
  {
   "cell_type": "markdown",
   "metadata": {
    "colab_type": "text",
    "id": "N6bQ0UgSU-NJ"
   },
   "source": [
    "### Encoding data"
   ]
  },
  {
   "cell_type": "markdown",
   "metadata": {
    "colab_type": "text",
    "id": "le5MJreAbW52"
   },
   "source": [
    "Label Encoding "
   ]
  },
  {
   "cell_type": "code",
   "execution_count": 227,
   "metadata": {
    "colab": {},
    "colab_type": "code",
    "id": "PxVKWXxLbczC",
    "scrolled": true,
    "vscode": {
     "languageId": "python"
    }
   },
   "outputs": [],
   "source": [
    "from sklearn.preprocessing import LabelEncoder\n",
    "le = LabelEncoder()\n",
    "X[:, 2] = le.fit_transform(X[:, 2])"
   ]
  },
  {
   "cell_type": "code",
   "execution_count": 228,
   "metadata": {
    "colab": {
     "base_uri": "https://localhost:8080/",
     "height": 137
    },
    "colab_type": "code",
    "id": "-M1KboxFb6OO",
    "outputId": "e2b8c7e8-0cbc-4cdf-f4eb-7f0853a00b88",
    "vscode": {
     "languageId": "python"
    }
   },
   "outputs": [
    {
     "name": "stdout",
     "output_type": "stream",
     "text": [
      "[[  6.    148.     22.    ...  33.6     0.627  50.   ]\n",
      " [  1.     85.     19.    ...  26.6     0.351  31.   ]\n",
      " [  8.    183.     17.    ...  23.3     0.672  32.   ]\n",
      " ...\n",
      " [  5.    121.     22.    ...  26.2     0.245  30.   ]\n",
      " [  1.    126.     14.    ...  30.1     0.349  47.   ]\n",
      " [  1.     93.     21.    ...  30.4     0.315  23.   ]]\n"
     ]
    }
   ],
   "source": [
    "print(X)"
   ]
  },
  {
   "cell_type": "markdown",
   "metadata": {
    "colab_type": "text",
    "id": "CUxGZezpbMcb"
   },
   "source": [
    ""
   ]
  },
  {
   "cell_type": "code",
   "execution_count": null,
   "metadata": {
    "colab": {},
    "colab_type": "code",
    "id": "AMXC8-KMVirw",
    "vscode": {
     "languageId": "python"
    }
   },
   "outputs": [],
   "source": []
  },
  {
   "cell_type": "code",
   "execution_count": 229,
   "metadata": {
    "colab": {
     "base_uri": "https://localhost:8080/",
     "height": 137
    },
    "colab_type": "code",
    "id": "ZcxwEon-b8nV",
    "outputId": "23a98af4-5e33-4b26-c27b-f06e3c5d2baf",
    "vscode": {
     "languageId": "python"
    }
   },
   "outputs": [
    {
     "name": "stdout",
     "output_type": "stream",
     "text": [
      "[[  6.    148.     22.    ...  33.6     0.627  50.   ]\n",
      " [  1.     85.     19.    ...  26.6     0.351  31.   ]\n",
      " [  8.    183.     17.    ...  23.3     0.672  32.   ]\n",
      " ...\n",
      " [  5.    121.     22.    ...  26.2     0.245  30.   ]\n",
      " [  1.    126.     14.    ...  30.1     0.349  47.   ]\n",
      " [  1.     93.     21.    ...  30.4     0.315  23.   ]]\n"
     ]
    }
   ],
   "source": [
    "print(X)"
   ]
  },
  {
   "cell_type": "markdown",
   "metadata": {
    "colab_type": "text",
    "id": "vHol938cW8zd"
   },
   "source": [
    "### Splitting the dataset into the Training set and Test set"
   ]
  },
  {
   "cell_type": "code",
   "execution_count": 230,
   "metadata": {
    "colab": {},
    "colab_type": "code",
    "id": "Z-TDt0Y_XEfc",
    "vscode": {
     "languageId": "python"
    }
   },
   "outputs": [],
   "source": [
    "from sklearn.model_selection import train_test_split\n",
    "X_train, X_test, y_train, y_test = train_test_split(X, y, test_size = 0.2, random_state = 0)"
   ]
  },
  {
   "cell_type": "markdown",
   "metadata": {
    "colab_type": "text",
    "id": "RE_FcHyfV3TQ"
   },
   "source": [
    "### Feature Scaling"
   ]
  },
  {
   "cell_type": "code",
   "execution_count": 231,
   "metadata": {
    "colab": {},
    "colab_type": "code",
    "id": "ViCrE00rV8Sk",
    "vscode": {
     "languageId": "python"
    }
   },
   "outputs": [],
   "source": [
    "from sklearn.preprocessing import StandardScaler\n",
    "sc = StandardScaler()\n",
    "X_train = sc.fit_transform(X_train)\n",
    "X_test = sc.transform(X_test)"
   ]
  },
  {
   "cell_type": "markdown",
   "metadata": {
    "colab_type": "text",
    "id": "-zfEzkRVXIwF"
   },
   "source": [
    "## Part 2 - Building the ANN"
   ]
  },
  {
   "cell_type": "markdown",
   "metadata": {
    "colab_type": "text",
    "id": "KvdeScabXtlB"
   },
   "source": [
    "### Initializing the ANN"
   ]
  },
  {
   "cell_type": "code",
   "execution_count": 232,
   "metadata": {
    "colab": {},
    "colab_type": "code",
    "id": "3dtrScHxXQox",
    "vscode": {
     "languageId": "python"
    }
   },
   "outputs": [],
   "source": [
    "ann = tf.keras.models.Sequential()"
   ]
  },
  {
   "cell_type": "markdown",
   "metadata": {
    "colab_type": "text",
    "id": "rP6urV6SX7kS"
   },
   "source": [
    "### Adding the input layer and the first hidden layer"
   ]
  },
  {
   "cell_type": "code",
   "execution_count": 233,
   "metadata": {
    "colab": {},
    "colab_type": "code",
    "id": "bppGycBXYCQr",
    "vscode": {
     "languageId": "python"
    }
   },
   "outputs": [],
   "source": [
    "ann.add(tf.keras.layers.Dense(units=8, activation='relu'))"
   ]
  },
  {
   "cell_type": "markdown",
   "metadata": {
    "colab_type": "text",
    "id": "BELWAc_8YJze"
   },
   "source": [
    "### Adding the second hidden layer"
   ]
  },
  {
   "cell_type": "code",
   "execution_count": 234,
   "metadata": {
    "colab": {},
    "colab_type": "code",
    "id": "JneR0u0sYRTd",
    "vscode": {
     "languageId": "python"
    }
   },
   "outputs": [],
   "source": [
    "ann.add(tf.keras.layers.Dense(units=6, activation='relu'))"
   ]
  },
  {
   "cell_type": "markdown",
   "metadata": {
    "colab_type": "text",
    "id": "OyNEe6RXYcU4"
   },
   "source": [
    "### Adding the output layer"
   ]
  },
  {
   "cell_type": "code",
   "execution_count": 235,
   "metadata": {
    "colab": {},
    "colab_type": "code",
    "id": "Cn3x41RBYfvY",
    "vscode": {
     "languageId": "python"
    }
   },
   "outputs": [],
   "source": [
    "ann.add(tf.keras.layers.Dense(units=1, activation='sigmoid'))"
   ]
  },
  {
   "cell_type": "markdown",
   "metadata": {
    "colab_type": "text",
    "id": "JT4u2S1_Y4WG"
   },
   "source": [
    "## Part 3 - Training the ANN"
   ]
  },
  {
   "cell_type": "markdown",
   "metadata": {
    "colab_type": "text",
    "id": "8GWlJChhY_ZI"
   },
   "source": [
    "### Compiling the ANN"
   ]
  },
  {
   "cell_type": "code",
   "execution_count": 236,
   "metadata": {
    "colab": {},
    "colab_type": "code",
    "id": "fG3RrwDXZEaS",
    "vscode": {
     "languageId": "python"
    }
   },
   "outputs": [],
   "source": [
    "ann.compile(optimizer = 'adam', loss = 'binary_crossentropy', metrics = ['accuracy'])"
   ]
  },
  {
   "cell_type": "markdown",
   "metadata": {
    "colab_type": "text",
    "id": "0QR_G5u7ZLSM"
   },
   "source": [
    "### Training the ANN on the Training set"
   ]
  },
  {
   "cell_type": "code",
   "execution_count": 237,
   "metadata": {
    "colab": {
     "base_uri": "https://localhost:8080/",
     "height": 1000
    },
    "colab_type": "code",
    "id": "nHZ-LKv_ZRb3",
    "outputId": "718cc4b0-b5aa-40f0-9b20-d3d31730a531",
    "vscode": {
     "languageId": "python"
    }
   },
   "outputs": [
    {
     "name": "stdout",
     "output_type": "stream",
     "text": [
      "Epoch 1/110\n",
      "21/21 [==============================] - 1s 2ms/step - loss: 0.6557 - accuracy: 0.6678\n",
      "Epoch 2/110\n",
      "21/21 [==============================] - 0s 2ms/step - loss: 0.6293 - accuracy: 0.6840\n",
      "Epoch 3/110\n",
      "21/21 [==============================] - 0s 2ms/step - loss: 0.6070 - accuracy: 0.6922\n",
      "Epoch 4/110\n",
      "21/21 [==============================] - 0s 2ms/step - loss: 0.5867 - accuracy: 0.6922\n",
      "Epoch 5/110\n",
      "21/21 [==============================] - 0s 2ms/step - loss: 0.5715 - accuracy: 0.6954\n",
      "Epoch 6/110\n",
      "21/21 [==============================] - 0s 2ms/step - loss: 0.5590 - accuracy: 0.7052\n",
      "Epoch 7/110\n",
      "21/21 [==============================] - 0s 2ms/step - loss: 0.5489 - accuracy: 0.7085\n",
      "Epoch 8/110\n",
      "21/21 [==============================] - 0s 2ms/step - loss: 0.5408 - accuracy: 0.7101\n",
      "Epoch 9/110\n",
      "21/21 [==============================] - 0s 2ms/step - loss: 0.5341 - accuracy: 0.7150\n",
      "Epoch 10/110\n",
      "21/21 [==============================] - 0s 2ms/step - loss: 0.5277 - accuracy: 0.7199\n",
      "Epoch 11/110\n",
      "21/21 [==============================] - 0s 2ms/step - loss: 0.5225 - accuracy: 0.7166\n",
      "Epoch 12/110\n",
      "21/21 [==============================] - 0s 2ms/step - loss: 0.5179 - accuracy: 0.7150\n",
      "Epoch 13/110\n",
      "21/21 [==============================] - 0s 2ms/step - loss: 0.5139 - accuracy: 0.7280\n",
      "Epoch 14/110\n",
      "21/21 [==============================] - 0s 2ms/step - loss: 0.5103 - accuracy: 0.7329\n",
      "Epoch 15/110\n",
      "21/21 [==============================] - 0s 2ms/step - loss: 0.5067 - accuracy: 0.7313\n",
      "Epoch 16/110\n",
      "21/21 [==============================] - 0s 2ms/step - loss: 0.5037 - accuracy: 0.7394\n",
      "Epoch 17/110\n",
      "21/21 [==============================] - 0s 2ms/step - loss: 0.5007 - accuracy: 0.7476\n",
      "Epoch 18/110\n",
      "21/21 [==============================] - 0s 2ms/step - loss: 0.4981 - accuracy: 0.7541\n",
      "Epoch 19/110\n",
      "21/21 [==============================] - 0s 2ms/step - loss: 0.4959 - accuracy: 0.7508\n",
      "Epoch 20/110\n",
      "21/21 [==============================] - 0s 2ms/step - loss: 0.4931 - accuracy: 0.7573\n",
      "Epoch 21/110\n",
      "21/21 [==============================] - 0s 2ms/step - loss: 0.4912 - accuracy: 0.7590\n",
      "Epoch 22/110\n",
      "21/21 [==============================] - 0s 2ms/step - loss: 0.4892 - accuracy: 0.7622\n",
      "Epoch 23/110\n",
      "21/21 [==============================] - 0s 2ms/step - loss: 0.4876 - accuracy: 0.7671\n",
      "Epoch 24/110\n",
      "21/21 [==============================] - 0s 2ms/step - loss: 0.4858 - accuracy: 0.7687\n",
      "Epoch 25/110\n",
      "21/21 [==============================] - 0s 2ms/step - loss: 0.4847 - accuracy: 0.7720\n",
      "Epoch 26/110\n",
      "21/21 [==============================] - 0s 2ms/step - loss: 0.4823 - accuracy: 0.7704\n",
      "Epoch 27/110\n",
      "21/21 [==============================] - 0s 2ms/step - loss: 0.4809 - accuracy: 0.7752\n",
      "Epoch 28/110\n",
      "21/21 [==============================] - 0s 2ms/step - loss: 0.4789 - accuracy: 0.7769\n",
      "Epoch 29/110\n",
      "21/21 [==============================] - 0s 2ms/step - loss: 0.4778 - accuracy: 0.7785\n",
      "Epoch 30/110\n",
      "21/21 [==============================] - 0s 2ms/step - loss: 0.4760 - accuracy: 0.7818\n",
      "Epoch 31/110\n",
      "21/21 [==============================] - 0s 2ms/step - loss: 0.4748 - accuracy: 0.7801\n",
      "Epoch 32/110\n",
      "21/21 [==============================] - 0s 2ms/step - loss: 0.4731 - accuracy: 0.7834\n",
      "Epoch 33/110\n",
      "21/21 [==============================] - 0s 2ms/step - loss: 0.4718 - accuracy: 0.7850\n",
      "Epoch 34/110\n",
      "21/21 [==============================] - 0s 2ms/step - loss: 0.4703 - accuracy: 0.7850\n",
      "Epoch 35/110\n",
      "21/21 [==============================] - 0s 2ms/step - loss: 0.4690 - accuracy: 0.7866\n",
      "Epoch 36/110\n",
      "21/21 [==============================] - 0s 2ms/step - loss: 0.4676 - accuracy: 0.7899\n",
      "Epoch 37/110\n",
      "21/21 [==============================] - 0s 2ms/step - loss: 0.4666 - accuracy: 0.7915\n",
      "Epoch 38/110\n",
      "21/21 [==============================] - 0s 2ms/step - loss: 0.4654 - accuracy: 0.7932\n",
      "Epoch 39/110\n",
      "21/21 [==============================] - 0s 2ms/step - loss: 0.4637 - accuracy: 0.7932\n",
      "Epoch 40/110\n",
      "21/21 [==============================] - 0s 2ms/step - loss: 0.4626 - accuracy: 0.7899\n",
      "Epoch 41/110\n",
      "21/21 [==============================] - 0s 2ms/step - loss: 0.4613 - accuracy: 0.7915\n",
      "Epoch 42/110\n",
      "21/21 [==============================] - 0s 2ms/step - loss: 0.4602 - accuracy: 0.7915\n",
      "Epoch 43/110\n",
      "21/21 [==============================] - 0s 2ms/step - loss: 0.4591 - accuracy: 0.7915\n",
      "Epoch 44/110\n",
      "21/21 [==============================] - 0s 2ms/step - loss: 0.4581 - accuracy: 0.7915\n",
      "Epoch 45/110\n",
      "21/21 [==============================] - 0s 2ms/step - loss: 0.4567 - accuracy: 0.7915\n",
      "Epoch 46/110\n",
      "21/21 [==============================] - 0s 2ms/step - loss: 0.4556 - accuracy: 0.7964\n",
      "Epoch 47/110\n",
      "21/21 [==============================] - 0s 2ms/step - loss: 0.4548 - accuracy: 0.7980\n",
      "Epoch 48/110\n",
      "21/21 [==============================] - 0s 2ms/step - loss: 0.4538 - accuracy: 0.7980\n",
      "Epoch 49/110\n",
      "21/21 [==============================] - 0s 2ms/step - loss: 0.4526 - accuracy: 0.7948\n",
      "Epoch 50/110\n",
      "21/21 [==============================] - 0s 2ms/step - loss: 0.4521 - accuracy: 0.7964\n",
      "Epoch 51/110\n",
      "21/21 [==============================] - 0s 2ms/step - loss: 0.4509 - accuracy: 0.7964\n",
      "Epoch 52/110\n",
      "21/21 [==============================] - 0s 2ms/step - loss: 0.4504 - accuracy: 0.7964\n",
      "Epoch 53/110\n",
      "21/21 [==============================] - 0s 2ms/step - loss: 0.4496 - accuracy: 0.7964\n",
      "Epoch 54/110\n",
      "21/21 [==============================] - 0s 2ms/step - loss: 0.4489 - accuracy: 0.7964\n",
      "Epoch 55/110\n",
      "21/21 [==============================] - 0s 2ms/step - loss: 0.4478 - accuracy: 0.7964\n",
      "Epoch 56/110\n",
      "21/21 [==============================] - 0s 3ms/step - loss: 0.4471 - accuracy: 0.7980\n",
      "Epoch 57/110\n",
      "21/21 [==============================] - 0s 2ms/step - loss: 0.4460 - accuracy: 0.7980\n",
      "Epoch 58/110\n",
      "21/21 [==============================] - 0s 2ms/step - loss: 0.4457 - accuracy: 0.7964\n",
      "Epoch 59/110\n",
      "21/21 [==============================] - 0s 2ms/step - loss: 0.4450 - accuracy: 0.7980\n",
      "Epoch 60/110\n",
      "21/21 [==============================] - 0s 2ms/step - loss: 0.4447 - accuracy: 0.7997\n",
      "Epoch 61/110\n",
      "21/21 [==============================] - 0s 2ms/step - loss: 0.4434 - accuracy: 0.7980\n",
      "Epoch 62/110\n",
      "21/21 [==============================] - 0s 2ms/step - loss: 0.4428 - accuracy: 0.7980\n",
      "Epoch 63/110\n",
      "21/21 [==============================] - 0s 2ms/step - loss: 0.4420 - accuracy: 0.7997\n",
      "Epoch 64/110\n",
      "21/21 [==============================] - 0s 2ms/step - loss: 0.4414 - accuracy: 0.7997\n",
      "Epoch 65/110\n",
      "21/21 [==============================] - 0s 2ms/step - loss: 0.4409 - accuracy: 0.7997\n",
      "Epoch 66/110\n",
      "21/21 [==============================] - 0s 2ms/step - loss: 0.4398 - accuracy: 0.8013\n",
      "Epoch 67/110\n",
      "21/21 [==============================] - 0s 2ms/step - loss: 0.4399 - accuracy: 0.8013\n",
      "Epoch 68/110\n",
      "21/21 [==============================] - 0s 2ms/step - loss: 0.4387 - accuracy: 0.8013\n",
      "Epoch 69/110\n",
      "21/21 [==============================] - 0s 2ms/step - loss: 0.4379 - accuracy: 0.8013\n",
      "Epoch 70/110\n",
      "21/21 [==============================] - 0s 2ms/step - loss: 0.4373 - accuracy: 0.8013\n",
      "Epoch 71/110\n",
      "21/21 [==============================] - 0s 2ms/step - loss: 0.4364 - accuracy: 0.8013\n",
      "Epoch 72/110\n",
      "21/21 [==============================] - 0s 2ms/step - loss: 0.4359 - accuracy: 0.7997\n",
      "Epoch 73/110\n",
      "21/21 [==============================] - 0s 2ms/step - loss: 0.4349 - accuracy: 0.7980\n",
      "Epoch 74/110\n",
      "21/21 [==============================] - 0s 2ms/step - loss: 0.4344 - accuracy: 0.7997\n",
      "Epoch 75/110\n",
      "21/21 [==============================] - 0s 2ms/step - loss: 0.4339 - accuracy: 0.7964\n",
      "Epoch 76/110\n",
      "21/21 [==============================] - 0s 2ms/step - loss: 0.4338 - accuracy: 0.7932\n",
      "Epoch 77/110\n",
      "21/21 [==============================] - 0s 2ms/step - loss: 0.4333 - accuracy: 0.7997\n",
      "Epoch 78/110\n",
      "21/21 [==============================] - 0s 2ms/step - loss: 0.4322 - accuracy: 0.8046\n",
      "Epoch 79/110\n",
      "21/21 [==============================] - 0s 2ms/step - loss: 0.4318 - accuracy: 0.7964\n",
      "Epoch 80/110\n",
      "21/21 [==============================] - 0s 2ms/step - loss: 0.4314 - accuracy: 0.7997\n",
      "Epoch 81/110\n",
      "21/21 [==============================] - 0s 2ms/step - loss: 0.4305 - accuracy: 0.7997\n",
      "Epoch 82/110\n",
      "21/21 [==============================] - 0s 2ms/step - loss: 0.4302 - accuracy: 0.8029\n",
      "Epoch 83/110\n"
     ]
    },
    {
     "name": "stdout",
     "output_type": "stream",
     "text": [
      "21/21 [==============================] - 0s 2ms/step - loss: 0.4296 - accuracy: 0.7997\n",
      "Epoch 84/110\n",
      "21/21 [==============================] - 0s 2ms/step - loss: 0.4296 - accuracy: 0.7964\n",
      "Epoch 85/110\n",
      "21/21 [==============================] - 0s 2ms/step - loss: 0.4291 - accuracy: 0.8062\n",
      "Epoch 86/110\n",
      "21/21 [==============================] - 0s 2ms/step - loss: 0.4283 - accuracy: 0.8046\n",
      "Epoch 87/110\n",
      "21/21 [==============================] - 0s 2ms/step - loss: 0.4279 - accuracy: 0.8013\n",
      "Epoch 88/110\n",
      "21/21 [==============================] - 0s 2ms/step - loss: 0.4274 - accuracy: 0.8029\n",
      "Epoch 89/110\n",
      "21/21 [==============================] - 0s 2ms/step - loss: 0.4271 - accuracy: 0.8029\n",
      "Epoch 90/110\n",
      "21/21 [==============================] - 0s 2ms/step - loss: 0.4269 - accuracy: 0.8029\n",
      "Epoch 91/110\n",
      "21/21 [==============================] - 0s 2ms/step - loss: 0.4267 - accuracy: 0.7997\n",
      "Epoch 92/110\n",
      "21/21 [==============================] - 0s 2ms/step - loss: 0.4264 - accuracy: 0.7997\n",
      "Epoch 93/110\n",
      "21/21 [==============================] - 0s 2ms/step - loss: 0.4255 - accuracy: 0.8013\n",
      "Epoch 94/110\n",
      "21/21 [==============================] - 0s 2ms/step - loss: 0.4251 - accuracy: 0.8013\n",
      "Epoch 95/110\n",
      "21/21 [==============================] - 0s 2ms/step - loss: 0.4251 - accuracy: 0.8029\n",
      "Epoch 96/110\n",
      "21/21 [==============================] - 0s 2ms/step - loss: 0.4249 - accuracy: 0.7997\n",
      "Epoch 97/110\n",
      "21/21 [==============================] - 0s 2ms/step - loss: 0.4237 - accuracy: 0.7997\n",
      "Epoch 98/110\n",
      "21/21 [==============================] - 0s 2ms/step - loss: 0.4236 - accuracy: 0.8013\n",
      "Epoch 99/110\n",
      "21/21 [==============================] - 0s 2ms/step - loss: 0.4236 - accuracy: 0.8046\n",
      "Epoch 100/110\n",
      "21/21 [==============================] - 0s 2ms/step - loss: 0.4228 - accuracy: 0.8046\n",
      "Epoch 101/110\n",
      "21/21 [==============================] - 0s 2ms/step - loss: 0.4226 - accuracy: 0.8029\n",
      "Epoch 102/110\n",
      "21/21 [==============================] - 0s 2ms/step - loss: 0.4222 - accuracy: 0.8013\n",
      "Epoch 103/110\n",
      "21/21 [==============================] - 0s 2ms/step - loss: 0.4218 - accuracy: 0.8013\n",
      "Epoch 104/110\n",
      "21/21 [==============================] - 0s 2ms/step - loss: 0.4214 - accuracy: 0.8046\n",
      "Epoch 105/110\n",
      "21/21 [==============================] - 0s 2ms/step - loss: 0.4211 - accuracy: 0.8013\n",
      "Epoch 106/110\n",
      "21/21 [==============================] - 0s 2ms/step - loss: 0.4205 - accuracy: 0.8046\n",
      "Epoch 107/110\n",
      "21/21 [==============================] - 0s 2ms/step - loss: 0.4208 - accuracy: 0.8078\n",
      "Epoch 108/110\n",
      "21/21 [==============================] - 0s 2ms/step - loss: 0.4201 - accuracy: 0.8029\n",
      "Epoch 109/110\n",
      "21/21 [==============================] - 0s 2ms/step - loss: 0.4197 - accuracy: 0.8078\n",
      "Epoch 110/110\n",
      "21/21 [==============================] - 0s 2ms/step - loss: 0.4193 - accuracy: 0.8029\n"
     ]
    },
    {
     "data": {
      "text/plain": [
       "<keras.callbacks.History at 0x1ffb056d8a0>"
      ]
     },
     "execution_count": 237,
     "metadata": {},
     "output_type": "execute_result"
    }
   ],
   "source": [
    "ann.fit(X_train, y_train, batch_size = 30, epochs = 110)"
   ]
  },
  {
   "cell_type": "markdown",
   "metadata": {
    "colab_type": "text",
    "id": "tJj5k2MxZga3"
   },
   "source": [
    "## Part 4 - Making the predictions and evaluating the model"
   ]
  },
  {
   "cell_type": "markdown",
   "metadata": {
    "colab_type": "text",
    "id": "ZhU1LTgPg-kH"
   },
   "source": [
    "**Solution**"
   ]
  },
  {
   "cell_type": "code",
   "execution_count": 155,
   "metadata": {
    "colab": {
     "base_uri": "https://localhost:8080/",
     "height": 34
    },
    "colab_type": "code",
    "id": "2d8IoCCkeWGL",
    "outputId": "957f3970-e197-4c3b-a150-7f69dc567f5d",
    "vscode": {
     "languageId": "python"
    }
   },
   "outputs": [
    {
     "name": "stdout",
     "output_type": "stream",
     "text": [
      "1/1 [==============================] - 0s 74ms/step\n",
      "[[False]]\n"
     ]
    }
   ],
   "source": [
   
    "print(ann.predict(sc.transform([[2,120,80,30,50,33.2,0.5,40]])) > 0.5)"
   ]
  },
  
  {
   "cell_type": "markdown",
   "metadata": {
    "colab_type": "text",
    "id": "u7yx47jPZt11"
   },
   "source": [
    "### Predicting the Test set results"
   ]
  },
  {
   "cell_type": "code",
   "execution_count": 156,
   "metadata": {
    "colab": {
     "base_uri": "https://localhost:8080/",
     "height": 137
    },
    "colab_type": "code",
    "id": "nIyEeQdRZwgs",
    "outputId": "82330ba8-9bdc-4fd1-d3cf-b6d78ee7c2a3",
    "vscode": {
     "languageId": "python"
    }
   },
   "outputs": [
    {
     "name": "stdout",
     "output_type": "stream",
     "text": [
      "5/5 [==============================] - 0s 2ms/step\n",
      "[[1 1]\n",
      " [0 0]\n",
      " [0 0]\n",
      " [1 1]\n",
      " [0 0]\n",
      " [0 0]\n",
      " [1 1]\n",
      " [1 1]\n",
      " [0 0]\n",
      " [1 0]\n",
      " [1 1]\n",
      " [1 1]\n",
      " [0 0]\n",
      " [0 0]\n",
      " [0 0]\n",
      " [0 0]\n",
      " [1 1]\n",
      " [0 0]\n",
      " [0 0]\n",
      " [0 0]\n",
      " [1 1]\n",
      " [0 1]\n",
      " [0 0]\n",
      " [0 0]\n",
      " [0 0]\n",
      " [1 0]\n",
      " [0 0]\n",
      " [1 0]\n",
      " [0 0]\n",
      " [0 0]\n",
      " [1 0]\n",
      " [0 0]\n",
      " [0 0]\n",
      " [1 0]\n",
      " [0 0]\n",
      " [1 1]\n",
      " [1 1]\n",
      " [0 0]\n",
      " [1 0]\n",
      " [1 0]\n",
      " [0 0]\n",
      " [0 0]\n",
      " [0 0]\n",
      " [1 1]\n",
      " [1 1]\n",
      " [0 0]\n",
      " [0 0]\n",
      " [0 1]\n",
      " [0 1]\n",
      " [0 1]\n",
      " [0 0]\n",
      " [0 0]\n",
      " [1 1]\n",
      " [0 0]\n",
      " [0 0]\n",
      " [0 0]\n",
      " [0 0]\n",
      " [0 1]\n",
      " [0 1]\n",
      " [0 1]\n",
      " [1 1]\n",
      " [1 0]\n",
      " [0 0]\n",
      " [1 1]\n",
      " [1 1]\n",
      " [1 1]\n",
      " [1 1]\n",
      " [0 0]\n",
      " [0 0]\n",
      " [0 0]\n",
      " [0 0]\n",
      " [0 0]\n",
      " [0 0]\n",
      " [1 0]\n",
      " [1 1]\n",
      " [0 0]\n",
      " [0 0]\n",
      " [1 0]\n",
      " [0 0]\n",
      " [0 0]\n",
      " [0 0]\n",
      " [0 0]\n",
      " [0 0]\n",
      " [0 0]\n",
      " [0 0]\n",
      " [0 0]\n",
      " [0 1]\n",
      " [0 0]\n",
      " [1 1]\n",
      " [0 0]\n",
      " [0 0]\n",
      " [0 0]\n",
      " [0 0]\n",
      " [0 0]\n",
      " [1 0]\n",
      " [0 0]\n",
      " [0 1]\n",
      " [0 0]\n",
      " [1 1]\n",
      " [0 1]\n",
      " [0 0]\n",
      " [0 0]\n",
      " [0 0]\n",
      " [0 0]\n",
      " [1 0]\n",
      " [1 1]\n",
      " [0 0]\n",
      " [0 0]\n",
      " [0 0]\n",
      " [1 1]\n",
      " [0 0]\n",
      " [0 1]\n",
      " [1 1]\n",
      " [1 1]\n",
      " [0 1]\n",
      " [1 1]\n",
      " [0 0]\n",
      " [1 0]\n",
      " [0 0]\n",
      " [1 1]\n",
      " [0 0]\n",
      " [0 0]\n",
      " [0 0]\n",
      " [0 0]\n",
      " [0 0]\n",
      " [0 0]\n",
      " [0 0]\n",
      " [0 1]\n",
      " [1 0]\n",
      " [0 0]\n",
      " [0 0]\n",
      " [0 0]\n",
      " [0 0]\n",
      " [1 1]\n",
      " [0 0]\n",
      " [0 1]\n",
      " [0 0]\n",
      " [0 1]\n",
      " [1 1]\n",
      " [0 0]\n",
      " [0 0]\n",
      " [1 0]\n",
      " [0 0]\n",
      " [0 0]\n",
      " [0 1]\n",
      " [0 0]\n",
      " [0 0]\n",
      " [0 0]\n",
      " [0 0]\n",
      " [0 1]\n",
      " [0 0]\n",
      " [1 1]\n",
      " [0 0]\n",
      " [0 0]]\n"
     ]
    }
   ],
   "source": [
    "y_pred = ann.predict(X_test)\n",
    "y_pred = (y_pred > 0.5)\n",
    "print(np.concatenate((y_pred.reshape(len(y_pred),1), y_test.reshape(len(y_test),1)),1))"
   ]
  },
  {
   "cell_type": "markdown",
   "metadata": {
    "colab_type": "text",
    "id": "o0oyfLWoaEGw"
   },
   "source": [
    "### Making the Confusion Matrix"
   ]
  },
  {
   "cell_type": "code",
   "execution_count": 157,
   "metadata": {
    "colab": {
     "base_uri": "https://localhost:8080/",
     "height": 68
    },
    "colab_type": "code",
    "id": "ci6K_r6LaF6P",
    "outputId": "4d854e9e-22d5-432f-f6e5-a102fe3ae0bd",
    "vscode": {
     "languageId": "python"
    }
   },
   "outputs": [
    {
     "name": "stdout",
     "output_type": "stream",
     "text": [
      "[[92 15]\n",
      " [17 30]]\n"
     ]
    },
    {
     "data": {
      "text/plain": [
       "0.7922077922077922"
      ]
     },
     "execution_count": 157,
     "metadata": {},
     "output_type": "execute_result"
    }
   ],
   "source": [
    "from sklearn.metrics import confusion_matrix, accuracy_score\n",
    "cm = confusion_matrix(y_test, y_pred)\n",
    "print(cm)\n",
    "accuracy_score(y_test, y_pred)"
   ]
  },
  {
   "cell_type": "code",
   "execution_count": null,
   "metadata": {},
   "outputs": [],
   "source": []
  },
  {
   "cell_type": "code",
   "execution_count": null,
   "metadata": {},
   "outputs": [],
   "source": []
  }
 ],
 "metadata": {
  "colab": {
   "collapsed_sections": [],
   "name": "artificial_neural_network.ipynb",
   "provenance": [],
   "toc_visible": true
  },
  "kernelspec": {
   "display_name": "Python 3 (ipykernel)",
   "language": "python",
   "name": "python3"
  },
  "language_info": {
   "codemirror_mode": {
    "name": "ipython",
    "version": 3
   },
   "file_extension": ".py",
   "mimetype": "text/x-python",
   "name": "python",
   "nbconvert_exporter": "python",
   "pygments_lexer": "ipython3",
   "version": "3.10.3"
  }
 },
 "nbformat": 4,
 "nbformat_minor": 1
}
